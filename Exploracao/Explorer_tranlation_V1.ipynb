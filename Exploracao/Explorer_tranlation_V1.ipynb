{
 "cells": [
  {
   "cell_type": "markdown",
   "metadata": {},
   "source": [
    "# Explorando API Azure Translator\n"
   ]
  },
  {
   "cell_type": "markdown",
   "metadata": {},
   "source": [
    "Neste notebook vamos explorar e testar as funcionalidades da API do Azure Tranalator para Gerarmos um texto traduzido.\n",
    "\n",
    "**A Idéia aqui é pegar o arquivo que esta em ARQS com a letra da musica Like a Prayer da Madona e traduzir para o português**"
   ]
  },
  {
   "cell_type": "code",
   "execution_count": 1,
   "metadata": {},
   "outputs": [
    {
     "name": "stdout",
     "output_type": "stream",
     "text": [
      "Defaulting to user installation because normal site-packages is not writeable\n",
      "Collecting docx\n",
      "  Downloading docx-0.2.4.tar.gz (54 kB)\n",
      "\u001b[2K     \u001b[90m━━━━━━━━━━━━━━━━━━━━━━━━━━━━━━━━━━━━━━━━\u001b[0m \u001b[32m54.9/54.9 KB\u001b[0m \u001b[31m2.1 MB/s\u001b[0m eta \u001b[36m0:00:00\u001b[0m\n",
      "\u001b[?25h  Preparing metadata (setup.py) ... \u001b[?25ldone\n",
      "\u001b[?25hRequirement already satisfied: Pillow>=2.0 in /home/aletavares/.local/lib/python3.10/site-packages (from docx) (10.2.0)\n",
      "Requirement already satisfied: lxml in /home/aletavares/.local/lib/python3.10/site-packages (from docx) (5.1.0)\n",
      "Building wheels for collected packages: docx\n",
      "  Building wheel for docx (setup.py) ... \u001b[?25ldone\n",
      "\u001b[?25h  Created wheel for docx: filename=docx-0.2.4-py3-none-any.whl size=53923 sha256=3a9e24fb6a8e8dd250eb006203772c6d62ff61b9cf3d42278603dfa729d5df99\n",
      "  Stored in directory: /home/aletavares/.cache/pip/wheels/81/f5/1d/e09ba2c1907a43a4146d1189ae4733ca1a3bfe27ee39507767\n",
      "Successfully built docx\n",
      "Installing collected packages: docx\n",
      "Successfully installed docx-0.2.4\n"
     ]
    }
   ],
   "source": [
    "# Instalando as libs necessárias para a exploração da API\n",
    "!pip install docx"
   ]
  },
  {
   "cell_type": "markdown",
   "metadata": {},
   "source": [
    "### Importando as Libs necessárias para a nossa Exploração"
   ]
  },
  {
   "cell_type": "code",
   "execution_count": 2,
   "metadata": {},
   "outputs": [],
   "source": [
    "import requests\n",
    "from docx import Document\n",
    "import os"
   ]
  },
  {
   "cell_type": "markdown",
   "metadata": {},
   "source": [
    "### Criando as variaveis necessárias para a exploração "
   ]
  },
  {
   "cell_type": "code",
   "execution_count": null,
   "metadata": {},
   "outputs": [],
   "source": [
    "subscription__key = \"sua secret key\" # Coloque aqui o output subscription_key_translator gerado no final da execução do Terraform\n",
    "endpoint = \"https://api.cognitive.microsofttranslator.com/\" # Coloque aqui o output end_point_translator gerado no final da execução do Terraform\n",
    "location = \"eastus\" # Coloque aqui o output subscription_location_translator gerado no final da execução do Terraform\n",
    "target_destination = \"pt-br\" # linguagem para a qual o texto deve ser traduzido\n"
   ]
  },
  {
   "cell_type": "markdown",
   "metadata": {},
   "source": [
    "### Vamos criar um metodo para textar a API do Tranlator traduzindo uma fraze"
   ]
  },
  {
   "cell_type": "code",
   "execution_count": 5,
   "metadata": {},
   "outputs": [],
   "source": [
    "def translator_text(text, target_language):\n",
    "    path = 'translate'\n",
    "    constructed_url = endpoint + path\n",
    "\n",
    "    headers = {\n",
    "        'Ocp-Apim-Subscription-Key': subscription__key,\n",
    "        'Ocp-Apim-Subscription-Region': location,\n",
    "        'Content-type': 'application/json',\n",
    "        'X-ClientTraceId': str(os.urandom(16))\n",
    "    }\n",
    "\n",
    "    body = [{\n",
    "        'text': text\n",
    "    }]\n",
    "\n",
    "    params = {\n",
    "        'api-version': '3.0',\n",
    "        'from': 'en',\n",
    "        'to': target_language\n",
    "    }\n",
    "\n",
    "    request = requests.post(constructed_url, params=params ,headers=headers, json=body)\n",
    "    response = request.json()\n",
    "    return response[0][\"translations\"][0][\"text\"]"
   ]
  },
  {
   "cell_type": "markdown",
   "metadata": {},
   "source": [
    "### Chamando o Metodo de Trdução com uma frase para teste de tradução e funcionamento da API"
   ]
  },
  {
   "cell_type": "code",
   "execution_count": 6,
   "metadata": {},
   "outputs": [
    {
     "data": {
      "text/plain": [
       "'Todo mundo deve ficar sozinho Eu ouço você chamar meu nome E me sinto em casa'"
      ]
     },
     "execution_count": 6,
     "metadata": {},
     "output_type": "execute_result"
    }
   ],
   "source": [
    "translator_text('Everyone must stand alone I hear you call my name And it feels like home', target_destination)"
   ]
  },
  {
   "cell_type": "markdown",
   "metadata": {},
   "source": [
    "### Criando um Metodo para traduzir um documento e gerar um novo Traduzido"
   ]
  },
  {
   "cell_type": "code",
   "execution_count": 7,
   "metadata": {},
   "outputs": [],
   "source": [
    "def translate_document(path):\n",
    "  document = Document(path)\n",
    "  fulltext = []\n",
    "  translat_doc = Document()\n",
    "  for paragraph in document.paragraphs:\n",
    "    translat_doc.add_paragraph(translator_text(paragraph.text, target_destination))\n",
    "\n",
    "  path_translatad = path.replace(\".docx\", f\"_{target_destination}_translate.docx\")\n",
    "  translat_doc.save(path_translatad)\n",
    "  return path_translatad\n"
   ]
  },
  {
   "cell_type": "markdown",
   "metadata": {},
   "source": [
    "### Chamando o método de Tradução de Arquivo para testarmos a Tradução de arquivo"
   ]
  },
  {
   "cell_type": "code",
   "execution_count": 9,
   "metadata": {},
   "outputs": [
    {
     "data": {
      "text/plain": [
       "'arqs/_Like a Prayer_pt-br_translate.docx'"
      ]
     },
     "execution_count": 9,
     "metadata": {},
     "output_type": "execute_result"
    }
   ],
   "source": [
    "imput_file = \"arqs/_Like a Prayer.docx\"\n",
    "translate_document(imput_file)"
   ]
  },
  {
   "cell_type": "code",
   "execution_count": null,
   "metadata": {},
   "outputs": [],
   "source": []
  }
 ],
 "metadata": {
  "kernelspec": {
   "display_name": "Python 3",
   "language": "python",
   "name": "python3"
  },
  "language_info": {
   "codemirror_mode": {
    "name": "ipython",
    "version": 3
   },
   "file_extension": ".py",
   "mimetype": "text/x-python",
   "name": "python",
   "nbconvert_exporter": "python",
   "pygments_lexer": "ipython3",
   "version": "3.10.12"
  }
 },
 "nbformat": 4,
 "nbformat_minor": 2
}
