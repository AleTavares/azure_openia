{
 "cells": [
  {
   "cell_type": "code",
   "execution_count": 2,
   "metadata": {},
   "outputs": [
    {
     "name": "stdout",
     "output_type": "stream",
     "text": [
      "Defaulting to user installation because normal site-packages is not writeable\n",
      "Requirement already satisfied: requests in /home/aletavares/.local/lib/python3.10/site-packages (2.31.0)\n",
      "Requirement already satisfied: beautifulsoup4 in /home/aletavares/.local/lib/python3.10/site-packages (4.12.2)\n",
      "Requirement already satisfied: openai in /home/aletavares/.local/lib/python3.10/site-packages (1.54.3)\n",
      "Collecting langchain-openai\n",
      "  Downloading langchain_openai-0.2.6-py3-none-any.whl (50 kB)\n",
      "\u001b[2K     \u001b[90m━━━━━━━━━━━━━━━━━━━━━━━━━━━━━━━━━━━━━━━━\u001b[0m \u001b[32m50.4/50.4 KB\u001b[0m \u001b[31m1.4 MB/s\u001b[0m eta \u001b[36m0:00:00\u001b[0m\n",
      "\u001b[?25hRequirement already satisfied: charset-normalizer<4,>=2 in /home/aletavares/.local/lib/python3.10/site-packages (from requests) (3.3.2)\n",
      "Requirement already satisfied: certifi>=2017.4.17 in /home/aletavares/.local/lib/python3.10/site-packages (from requests) (2023.11.17)\n",
      "Requirement already satisfied: idna<4,>=2.5 in /home/aletavares/.local/lib/python3.10/site-packages (from requests) (3.6)\n",
      "Requirement already satisfied: urllib3<3,>=1.21.1 in /home/aletavares/.local/lib/python3.10/site-packages (from requests) (2.0.7)\n",
      "Requirement already satisfied: soupsieve>1.2 in /home/aletavares/.local/lib/python3.10/site-packages (from beautifulsoup4) (2.5)\n",
      "Requirement already satisfied: sniffio in /home/aletavares/.local/lib/python3.10/site-packages (from openai) (1.3.1)\n",
      "Requirement already satisfied: distro<2,>=1.7.0 in /usr/lib/python3/dist-packages (from openai) (1.7.0)\n",
      "Requirement already satisfied: httpx<1,>=0.23.0 in /home/aletavares/.local/lib/python3.10/site-packages (from openai) (0.27.2)\n",
      "Requirement already satisfied: pydantic<3,>=1.9.0 in /home/aletavares/.local/lib/python3.10/site-packages (from openai) (2.5.3)\n",
      "Requirement already satisfied: typing-extensions<5,>=4.11 in /home/aletavares/.local/lib/python3.10/site-packages (from openai) (4.12.2)\n",
      "Requirement already satisfied: tqdm>4 in /home/aletavares/.local/lib/python3.10/site-packages (from openai) (4.11.2)\n",
      "Requirement already satisfied: jiter<1,>=0.4.0 in /home/aletavares/.local/lib/python3.10/site-packages (from openai) (0.7.0)\n",
      "Requirement already satisfied: anyio<5,>=3.5.0 in /home/aletavares/.local/lib/python3.10/site-packages (from openai) (4.6.2.post1)\n",
      "Collecting langchain-core<0.4.0,>=0.3.15\n",
      "  Downloading langchain_core-0.3.15-py3-none-any.whl (408 kB)\n",
      "\u001b[2K     \u001b[90m━━━━━━━━━━━━━━━━━━━━━━━━━━━━━━━━━━━━━━━\u001b[0m \u001b[32m408.7/408.7 KB\u001b[0m \u001b[31m1.5 MB/s\u001b[0m eta \u001b[36m0:00:00\u001b[0m00:01\u001b[0m00:01\u001b[0m\n",
      "\u001b[?25hCollecting tiktoken<1,>=0.7\n",
      "  Downloading tiktoken-0.8.0-cp310-cp310-manylinux_2_17_x86_64.manylinux2014_x86_64.whl (1.2 MB)\n",
      "\u001b[2K     \u001b[90m━━━━━━━━━━━━━━━━━━━━━━━━━━━━━━━━━━━━━━━━\u001b[0m \u001b[32m1.2/1.2 MB\u001b[0m \u001b[31m1.3 MB/s\u001b[0m eta \u001b[36m0:00:00\u001b[0m00:01\u001b[0m00:01\u001b[0m0m\n",
      "\u001b[?25hRequirement already satisfied: exceptiongroup>=1.0.2 in /home/aletavares/.local/lib/python3.10/site-packages (from anyio<5,>=3.5.0->openai) (1.2.0)\n",
      "Requirement already satisfied: httpcore==1.* in /home/aletavares/.local/lib/python3.10/site-packages (from httpx<1,>=0.23.0->openai) (1.0.6)\n",
      "Requirement already satisfied: h11<0.15,>=0.13 in /home/aletavares/.local/lib/python3.10/site-packages (from httpcore==1.*->httpx<1,>=0.23.0->openai) (0.14.0)\n",
      "Collecting jsonpatch<2.0,>=1.33\n",
      "  Downloading jsonpatch-1.33-py2.py3-none-any.whl (12 kB)\n",
      "Requirement already satisfied: tenacity!=8.4.0,<10.0.0,>=8.1.0 in /home/aletavares/.local/lib/python3.10/site-packages (from langchain-core<0.4.0,>=0.3.15->langchain-openai) (9.0.0)\n",
      "Collecting langsmith<0.2.0,>=0.1.125\n",
      "  Downloading langsmith-0.1.142-py3-none-any.whl (306 kB)\n",
      "\u001b[2K     \u001b[90m━━━━━━━━━━━━━━━━━━━━━━━━━━━━━━━━━━━━━━━\u001b[0m \u001b[32m306.7/306.7 KB\u001b[0m \u001b[31m1.5 MB/s\u001b[0m eta \u001b[36m0:00:00\u001b[0ma \u001b[36m0:00:01\u001b[0m\n",
      "\u001b[?25hRequirement already satisfied: PyYAML>=5.3 in /usr/lib/python3/dist-packages (from langchain-core<0.4.0,>=0.3.15->langchain-openai) (5.4.1)\n",
      "Requirement already satisfied: packaging<25,>=23.2 in /home/aletavares/.local/lib/python3.10/site-packages (from langchain-core<0.4.0,>=0.3.15->langchain-openai) (23.2)\n",
      "Requirement already satisfied: annotated-types>=0.4.0 in /home/aletavares/.local/lib/python3.10/site-packages (from pydantic<3,>=1.9.0->openai) (0.6.0)\n",
      "Requirement already satisfied: pydantic-core==2.14.6 in /home/aletavares/.local/lib/python3.10/site-packages (from pydantic<3,>=1.9.0->openai) (2.14.6)\n",
      "Collecting regex>=2022.1.18\n",
      "  Downloading regex-2024.11.6-cp310-cp310-manylinux_2_17_x86_64.manylinux2014_x86_64.whl (781 kB)\n",
      "\u001b[2K     \u001b[90m━━━━━━━━━━━━━━━━━━━━━━━━━━━━━━━━━━━━━━━\u001b[0m \u001b[32m781.7/781.7 KB\u001b[0m \u001b[31m1.0 MB/s\u001b[0m eta \u001b[36m0:00:00\u001b[0m00:01\u001b[0m00:01\u001b[0m\n",
      "\u001b[?25hCollecting jsonpointer>=1.9\n",
      "  Downloading jsonpointer-3.0.0-py2.py3-none-any.whl (7.6 kB)\n",
      "Collecting orjson<4.0.0,>=3.9.14\n",
      "  Downloading orjson-3.10.11-cp310-cp310-manylinux_2_17_x86_64.manylinux2014_x86_64.whl (142 kB)\n",
      "\u001b[2K     \u001b[90m━━━━━━━━━━━━━━━━━━━━━━━━━━━━━━━━━━━━━━━\u001b[0m \u001b[32m142.5/142.5 KB\u001b[0m \u001b[31m1.8 MB/s\u001b[0m eta \u001b[36m0:00:00\u001b[0ma \u001b[36m0:00:01\u001b[0m\n",
      "\u001b[?25hCollecting requests-toolbelt<2.0.0,>=1.0.0\n",
      "  Downloading requests_toolbelt-1.0.0-py2.py3-none-any.whl (54 kB)\n",
      "\u001b[2K     \u001b[90m━━━━━━━━━━━━━━━━━━━━━━━━━━━━━━━━━━━━━━━━\u001b[0m \u001b[32m54.5/54.5 KB\u001b[0m \u001b[31m4.3 MB/s\u001b[0m eta \u001b[36m0:00:00\u001b[0m\n",
      "\u001b[?25hInstalling collected packages: regex, orjson, jsonpointer, tiktoken, requests-toolbelt, jsonpatch, langsmith, langchain-core, langchain-openai\n",
      "  Attempting uninstall: requests-toolbelt\n",
      "    Found existing installation: requests-toolbelt 0.7.0\n",
      "    Uninstalling requests-toolbelt-0.7.0:\n",
      "      Successfully uninstalled requests-toolbelt-0.7.0\n",
      "\u001b[31mERROR: pip's dependency resolver does not currently take into account all the packages that are installed. This behaviour is the source of the following dependency conflicts.\n",
      "instagramapi 1.0.2 requires requests==2.11.1, but you have requests 2.31.0 which is incompatible.\n",
      "instagramapi 1.0.2 requires requests-toolbelt==0.7.0, but you have requests-toolbelt 1.0.0 which is incompatible.\u001b[0m\u001b[31m\n",
      "\u001b[0mSuccessfully installed jsonpatch-1.33 jsonpointer-3.0.0 langchain-core-0.3.15 langchain-openai-0.2.6 langsmith-0.1.142 orjson-3.10.11 regex-2024.11.6 requests-toolbelt-1.0.0 tiktoken-0.8.0\n"
     ]
    }
   ],
   "source": [
    "!pip install requests beautifulsoup4 openai langchain-openai"
   ]
  },
  {
   "cell_type": "code",
   "execution_count": 3,
   "metadata": {},
   "outputs": [],
   "source": [
    "import requests\n",
    "from bs4 import BeautifulSoup\n",
    "from langchain_openai.chat_models.azure import AzureChatOpenAI"
   ]
  },
  {
   "cell_type": "code",
   "execution_count": 4,
   "metadata": {},
   "outputs": [],
   "source": [
    "def extrair_dados_da_pagina(url):\n",
    "    response = requests.get(url)\n",
    "    if response.status_code == 200:\n",
    "      soup = BeautifulSoup(response.text, 'html.parser')\n",
    "      for script in soup([\"script\", \"style\"]):\n",
    "        script.decompose()\n",
    "      text = soup.get_text(separator=' ')\n",
    "      lines = (line.strip() for line in text.splitlines())\n",
    "      parts = (phrase.strip() for line in lines for phrase in line.split(\"  \"))\n",
    "      texto_limpo = '\\n'.join(part for part in parts if part)\n",
    "      return texto_limpo\n",
    "    else:\n",
    "        print(f\"Erro ao acessar a página. Código de status: {response.status_code}\")\n",
    "        return None"
   ]
  },
  {
   "cell_type": "code",
   "execution_count": 5,
   "metadata": {},
   "outputs": [
    {
     "data": {
      "text/plain": [
       "1000"
      ]
     },
     "execution_count": 5,
     "metadata": {},
     "output_type": "execute_result"
    }
   ],
   "source": [
    "len(extrair_dados_da_pagina('https://dev.to/upslide/using-rbac-with-azure-openai-services-1kl5')[0:1000])"
   ]
  },
  {
   "cell_type": "code",
   "execution_count": null,
   "metadata": {},
   "outputs": [],
   "source": [
    "client = AzureChatOpenAI(\n",
    "    azure_endpoint= \"https://eastus.api.cognitive.microsoft.com/\",\n",
    "    api_key=\"sua secret key\",\n",
    "    api_version=\"2024-02-15-preview\",\n",
    "    deployment_name=\"gpt-4o-mini\",\n",
    "    max_retries=0\n",
    ")"
   ]
  },
  {
   "cell_type": "code",
   "execution_count": 7,
   "metadata": {},
   "outputs": [],
   "source": [
    "def translate_article(text, lang):\n",
    "  message = [\n",
    "      (\"system\", \"Você atua como tradutor de Textos\"),\n",
    "      (\"user\", f\"Traduza o {text} para o idioma {lang} e responda em markedown e ao final do texto inclua um resumo\")\n",
    "      ]\n",
    "\n",
    "  response = client.invoke(message)\n",
    "  print(response.content)\n",
    "  return response.content"
   ]
  },
  {
   "cell_type": "code",
   "execution_count": 8,
   "metadata": {},
   "outputs": [
    {
     "name": "stdout",
     "output_type": "stream",
     "text": [
      "# Torne seus aplicativos Azure OpenAI compatíveis com RBAC\n",
      "\n",
      "Microsoft efetivamente forneceu aos desenvolvedores a documentação relevante para iniciar seus projetos de IA usando os Serviços Azure OpenAI. No entanto, à medida que mergulhamos em cenários mais avançados e começamos a encontrar casos extremos, parece haver visivelmente menos diretrizes disponíveis.\n",
      "\n",
      "Qual é um exemplo recente disso? A mudança de chaves compartilhadas para a Autenticação/Autorização do Entra ID.\n",
      "\n",
      "Embora as chaves compartilhadas sejam muito fáceis de configurar, você provavelmente desejará evitá-las por várias razões.\n",
      "\n",
      "## Resumo\n",
      "\n",
      "O artigo discute a importância de tornar os aplicativos Azure OpenAI compatíveis com o controle de acesso baseado em função (RBAC) e menciona a transição de chaves compartilhadas para a autenticação e autorização do Entra ID, destacando que, apesar da facilidade de uso das chaves compartilhadas, existem razões para evitá-las em favor de opções mais seguras.\n"
     ]
    },
    {
     "data": {
      "text/plain": [
       "'# Torne seus aplicativos Azure OpenAI compatíveis com RBAC\\n\\nMicrosoft efetivamente forneceu aos desenvolvedores a documentação relevante para iniciar seus projetos de IA usando os Serviços Azure OpenAI. No entanto, à medida que mergulhamos em cenários mais avançados e começamos a encontrar casos extremos, parece haver visivelmente menos diretrizes disponíveis.\\n\\nQual é um exemplo recente disso? A mudança de chaves compartilhadas para a Autenticação/Autorização do Entra ID.\\n\\nEmbora as chaves compartilhadas sejam muito fáceis de configurar, você provavelmente desejará evitá-las por várias razões.\\n\\n## Resumo\\n\\nO artigo discute a importância de tornar os aplicativos Azure OpenAI compatíveis com o controle de acesso baseado em função (RBAC) e menciona a transição de chaves compartilhadas para a autenticação e autorização do Entra ID, destacando que, apesar da facilidade de uso das chaves compartilhadas, existem razões para evitá-las em favor de opções mais seguras.'"
      ]
     },
     "execution_count": 8,
     "metadata": {},
     "output_type": "execute_result"
    }
   ],
   "source": [
    "translate_article(extrair_dados_da_pagina('https://dev.to/upslide/using-rbac-with-azure-openai-services-1kl5')[0:1000], \"portugues\")"
   ]
  },
  {
   "cell_type": "code",
   "execution_count": null,
   "metadata": {},
   "outputs": [],
   "source": []
  }
 ],
 "metadata": {
  "kernelspec": {
   "display_name": "Python 3",
   "language": "python",
   "name": "python3"
  },
  "language_info": {
   "codemirror_mode": {
    "name": "ipython",
    "version": 3
   },
   "file_extension": ".py",
   "mimetype": "text/x-python",
   "name": "python",
   "nbconvert_exporter": "python",
   "pygments_lexer": "ipython3",
   "version": "3.10.12"
  }
 },
 "nbformat": 4,
 "nbformat_minor": 2
}
